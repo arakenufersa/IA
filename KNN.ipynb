{
  "nbformat": 4,
  "nbformat_minor": 0,
  "metadata": {
    "colab": {
      "provenance": [],
      "include_colab_link": true
    },
    "kernelspec": {
      "name": "python3",
      "display_name": "Python 3"
    },
    "language_info": {
      "name": "python"
    }
  },
  "cells": [
    {
      "cell_type": "markdown",
      "metadata": {
        "id": "view-in-github",
        "colab_type": "text"
      },
      "source": [
        "<a href=\"https://colab.research.google.com/github/arakenufersa/IA/blob/main/KNN.ipynb\" target=\"_parent\"><img src=\"https://colab.research.google.com/assets/colab-badge.svg\" alt=\"Open In Colab\"/></a>"
      ]
    },
    {
      "cell_type": "markdown",
      "source": [
        "## **Carregando os dados**`"
      ],
      "metadata": {
        "id": "KYZOG7JrxCQz"
      }
    },
    {
      "cell_type": "code",
      "execution_count": null,
      "metadata": {
        "id": "g4ukZJvCnahy"
      },
      "outputs": [],
      "source": [
        "# Importando bibliotecas necessárias\n",
        "import numpy as np\n",
        "import pandas as pd\n",
        "from google.colab import files\n",
        "from scipy.io import arff\n",
        "from sklearn.preprocessing import LabelEncoder, OneHotEncoder\n",
        "from sklearn.compose import ColumnTransformer\n",
        "from sklearn.pipeline import Pipeline\n",
        "from sklearn.model_selection import train_test_split, cross_val_score\n",
        "from sklearn.preprocessing import StandardScaler\n",
        "from sklearn.neighbors import KNeighborsClassifier\n",
        "from sklearn.metrics import accuracy_score\n",
        "\n",
        "# Fazer upload do arquivo ARFF\n",
        "uploaded = files.upload()\n",
        "\n",
        "# O nome do arquivo é a chave no dicionário uploaded\n",
        "filename = next(iter(uploaded))\n",
        "\n",
        "# Carregar o arquivo ARFF\n",
        "data, meta = arff.loadarff(filename)\n",
        "\n",
        "# Converter para DataFrame do pandas\n",
        "df = pd.DataFrame(data)\n",
        "\n",
        "# Exibir os primeiros registros do DataFrame\n",
        "print(df.head())\n",
        "\n",
        "# Verificar se há colunas com valores em bytes e convertê-las para string\n",
        "for col in df.columns:\n",
        "    if df[col].dtype == 'object':  # Verificando colunas que contêm bytes\n",
        "        df[col] = df[col].apply(lambda x: x.decode('utf-8') if isinstance(x, bytes) else x)\n",
        "\n",
        "# Exibir os primeiros registros do DataFrame após a conversão\n",
        "print(\"DataFrame após decodificação:\")\n",
        "print(df.head())\n",
        "\n",
        "# Identificar as colunas de atributos (X) e a coluna de classe (y)\n",
        "X = df.iloc[:, :-1]  # Todas as colunas exceto a última (atributos)\n",
        "y = df.iloc[:, -1]  # Última coluna (classe)\n",
        "\n",
        "# Aplicar Label Encoding nas colunas categóricas\n",
        "label_encoder = LabelEncoder()\n",
        "\n",
        "# Verificar os tipos de dados para identificar colunas categóricas\n",
        "categorical_cols = X.select_dtypes(include=['object']).columns.tolist()\n",
        "\n",
        "# Aplicar Label Encoding em cada coluna categórica\n",
        "for col in categorical_cols:\n",
        "    X[col] = label_encoder.fit_transform(X[col])\n",
        "\n",
        "# Aplicar Label Encoding na coluna de saída (classe), se necessário\n",
        "y = label_encoder.fit_transform(y)\n",
        "\n",
        "# Exibir o DataFrame após a transformação\n",
        "print(\"DataFrame após Label Encoding:\")\n",
        "print(X.head())\n",
        "\n",
        "\n",
        "\n",
        "# Normalizar os dados (StandardScaler padroniza os dados com média 0 e desvio padrão 1)\n",
        "scaler = StandardScaler()\n",
        "X = scaler.fit_transform(X)  # Normalizando todos os dados antes da validação cruzada\n",
        "\n",
        "\n",
        "# Exibir os primeiros registros do DataFrame\n",
        "print(X.view())\n"
      ]
    },
    {
      "cell_type": "markdown",
      "source": [
        "## `**KNN com holdout com repetições**"
      ],
      "metadata": {
        "id": "K-qijcKHqp1n"
      }
    },
    {
      "cell_type": "code",
      "source": [
        "# Definir o modelo KNN (com k=5, por exemplo)\n",
        "knn = KNeighborsClassifier(n_neighbors=3)\n",
        "\n",
        "# Inicializar listas para armazenar as acurácias\n",
        "accuracies = []\n",
        "\n",
        "# Realizar Holdout com 30 repetições\n",
        "for _ in range(30):\n",
        "    # Dividir os dados em treino (80%) e teste (20%)\n",
        "    X_train, X_test, y_train, y_test = train_test_split(X, y, test_size=0.2, random_state=None)  # random_state=None para diferentes divisões\n",
        "\n",
        "    # Treinar o modelo\n",
        "    knn.fit(X_train, y_train)\n",
        "\n",
        "    # Fazer previsões\n",
        "    y_pred = knn.predict(X_test)\n",
        "\n",
        "    # Avaliar a acurácia do modelo\n",
        "    accuracy = accuracy_score(y_test, y_pred)\n",
        "    accuracies.append(accuracy)\n",
        "\n",
        "# Calcular a média e o desvio padrão das acurácias\n",
        "mean_accuracy = np.mean(accuracies)\n",
        "std_accuracy = np.std(accuracies)\n",
        "\n",
        "# Exibir os resultados\n",
        "print(f\"Acurácia média do Holdout: {mean_accuracy * 100:.2f}%\")\n",
        "print(f\"Desvio padrão da acurácia: {std_accuracy * 100:.2f}%\")"
      ],
      "metadata": {
        "colab": {
          "base_uri": "https://localhost:8080/"
        },
        "id": "09CjXQREqskz",
        "outputId": "82e409c2-072f-49d6-f11b-e170121cbef6"
      },
      "execution_count": 3,
      "outputs": [
        {
          "output_type": "stream",
          "name": "stdout",
          "text": [
            "Acurácia média do Holdout: 67.07%\n",
            "Desvio padrão da acurácia: 4.70%\n"
          ]
        }
      ]
    },
    {
      "cell_type": "markdown",
      "source": [
        "## `**KNN com validação cruzada**"
      ],
      "metadata": {
        "id": "vjWzLT6hpe7h"
      }
    },
    {
      "cell_type": "code",
      "source": [
        "# Definir o modelo KNN (com k=5, por exemplo)\n",
        "knn = KNeighborsClassifier(n_neighbors=1)\n",
        "\n",
        "# Realizar validação cruzada com 10 grupos\n",
        "cv_scores = cross_val_score(knn, X, y, cv=10)\n",
        "\n",
        "# Exibir a acurácia média e desvio padrão da validação cruzada\n",
        "print(f\"Acurácia média da validação cruzada: {cv_scores.mean() * 100:.2f}%\")\n",
        "print(f\"Desvio padrão da acurácia: {cv_scores.std() * 100:.2f}%\")"
      ],
      "metadata": {
        "id": "bjfpmEhQpwo5"
      },
      "execution_count": null,
      "outputs": []
    }
  ]
}