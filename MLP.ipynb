{
  "nbformat": 4,
  "nbformat_minor": 0,
  "metadata": {
    "colab": {
      "provenance": []
    },
    "kernelspec": {
      "name": "python3",
      "display_name": "Python 3"
    },
    "language_info": {
      "name": "python"
    }
  },
  "cells": [
    {
      "cell_type": "code",
      "execution_count": null,
      "metadata": {
        "id": "ang4LAMLrtEy",
        "colab": {
          "base_uri": "https://localhost:8080/"
        },
        "outputId": "3dc8bf71-771f-47bf-8754-cd3921062ab2"
      },
      "outputs": [
        {
          "output_type": "stream",
          "name": "stdout",
          "text": [
            "Reading package lists... Done\n",
            "Building dependency tree... Done\n",
            "Reading state information... Done\n",
            "graphviz is already the newest version (2.42.2-6ubuntu0.1).\n",
            "0 upgraded, 0 newly installed, 0 to remove and 49 not upgraded.\n"
          ]
        }
      ],
      "source": [
        "!apt-get install graphviz\n"
      ]
    },
    {
      "cell_type": "markdown",
      "source": [
        "## **Carregando os dados**"
      ],
      "metadata": {
        "id": "VkeyQUyi9Q3a"
      }
    },
    {
      "cell_type": "code",
      "execution_count": null,
      "metadata": {
        "colab": {
          "base_uri": "https://localhost:8080/",
          "height": 403
        },
        "id": "g4ukZJvCnahy",
        "outputId": "0250ac94-4b0d-46ee-b7e0-9bd8f266eeeb"
      },
      "outputs": [
        {
          "output_type": "display_data",
          "data": {
            "text/plain": [
              "<IPython.core.display.HTML object>"
            ],
            "text/html": [
              "\n",
              "     <input type=\"file\" id=\"files-87a0ee8b-1ec0-4ada-8e70-00980947e670\" name=\"files[]\" multiple disabled\n",
              "        style=\"border:none\" />\n",
              "     <output id=\"result-87a0ee8b-1ec0-4ada-8e70-00980947e670\">\n",
              "      Upload widget is only available when the cell has been executed in the\n",
              "      current browser session. Please rerun this cell to enable.\n",
              "      </output>\n",
              "      <script>// Copyright 2017 Google LLC\n",
              "//\n",
              "// Licensed under the Apache License, Version 2.0 (the \"License\");\n",
              "// you may not use this file except in compliance with the License.\n",
              "// You may obtain a copy of the License at\n",
              "//\n",
              "//      http://www.apache.org/licenses/LICENSE-2.0\n",
              "//\n",
              "// Unless required by applicable law or agreed to in writing, software\n",
              "// distributed under the License is distributed on an \"AS IS\" BASIS,\n",
              "// WITHOUT WARRANTIES OR CONDITIONS OF ANY KIND, either express or implied.\n",
              "// See the License for the specific language governing permissions and\n",
              "// limitations under the License.\n",
              "\n",
              "/**\n",
              " * @fileoverview Helpers for google.colab Python module.\n",
              " */\n",
              "(function(scope) {\n",
              "function span(text, styleAttributes = {}) {\n",
              "  const element = document.createElement('span');\n",
              "  element.textContent = text;\n",
              "  for (const key of Object.keys(styleAttributes)) {\n",
              "    element.style[key] = styleAttributes[key];\n",
              "  }\n",
              "  return element;\n",
              "}\n",
              "\n",
              "// Max number of bytes which will be uploaded at a time.\n",
              "const MAX_PAYLOAD_SIZE = 100 * 1024;\n",
              "\n",
              "function _uploadFiles(inputId, outputId) {\n",
              "  const steps = uploadFilesStep(inputId, outputId);\n",
              "  const outputElement = document.getElementById(outputId);\n",
              "  // Cache steps on the outputElement to make it available for the next call\n",
              "  // to uploadFilesContinue from Python.\n",
              "  outputElement.steps = steps;\n",
              "\n",
              "  return _uploadFilesContinue(outputId);\n",
              "}\n",
              "\n",
              "// This is roughly an async generator (not supported in the browser yet),\n",
              "// where there are multiple asynchronous steps and the Python side is going\n",
              "// to poll for completion of each step.\n",
              "// This uses a Promise to block the python side on completion of each step,\n",
              "// then passes the result of the previous step as the input to the next step.\n",
              "function _uploadFilesContinue(outputId) {\n",
              "  const outputElement = document.getElementById(outputId);\n",
              "  const steps = outputElement.steps;\n",
              "\n",
              "  const next = steps.next(outputElement.lastPromiseValue);\n",
              "  return Promise.resolve(next.value.promise).then((value) => {\n",
              "    // Cache the last promise value to make it available to the next\n",
              "    // step of the generator.\n",
              "    outputElement.lastPromiseValue = value;\n",
              "    return next.value.response;\n",
              "  });\n",
              "}\n",
              "\n",
              "/**\n",
              " * Generator function which is called between each async step of the upload\n",
              " * process.\n",
              " * @param {string} inputId Element ID of the input file picker element.\n",
              " * @param {string} outputId Element ID of the output display.\n",
              " * @return {!Iterable<!Object>} Iterable of next steps.\n",
              " */\n",
              "function* uploadFilesStep(inputId, outputId) {\n",
              "  const inputElement = document.getElementById(inputId);\n",
              "  inputElement.disabled = false;\n",
              "\n",
              "  const outputElement = document.getElementById(outputId);\n",
              "  outputElement.innerHTML = '';\n",
              "\n",
              "  const pickedPromise = new Promise((resolve) => {\n",
              "    inputElement.addEventListener('change', (e) => {\n",
              "      resolve(e.target.files);\n",
              "    });\n",
              "  });\n",
              "\n",
              "  const cancel = document.createElement('button');\n",
              "  inputElement.parentElement.appendChild(cancel);\n",
              "  cancel.textContent = 'Cancel upload';\n",
              "  const cancelPromise = new Promise((resolve) => {\n",
              "    cancel.onclick = () => {\n",
              "      resolve(null);\n",
              "    };\n",
              "  });\n",
              "\n",
              "  // Wait for the user to pick the files.\n",
              "  const files = yield {\n",
              "    promise: Promise.race([pickedPromise, cancelPromise]),\n",
              "    response: {\n",
              "      action: 'starting',\n",
              "    }\n",
              "  };\n",
              "\n",
              "  cancel.remove();\n",
              "\n",
              "  // Disable the input element since further picks are not allowed.\n",
              "  inputElement.disabled = true;\n",
              "\n",
              "  if (!files) {\n",
              "    return {\n",
              "      response: {\n",
              "        action: 'complete',\n",
              "      }\n",
              "    };\n",
              "  }\n",
              "\n",
              "  for (const file of files) {\n",
              "    const li = document.createElement('li');\n",
              "    li.append(span(file.name, {fontWeight: 'bold'}));\n",
              "    li.append(span(\n",
              "        `(${file.type || 'n/a'}) - ${file.size} bytes, ` +\n",
              "        `last modified: ${\n",
              "            file.lastModifiedDate ? file.lastModifiedDate.toLocaleDateString() :\n",
              "                                    'n/a'} - `));\n",
              "    const percent = span('0% done');\n",
              "    li.appendChild(percent);\n",
              "\n",
              "    outputElement.appendChild(li);\n",
              "\n",
              "    const fileDataPromise = new Promise((resolve) => {\n",
              "      const reader = new FileReader();\n",
              "      reader.onload = (e) => {\n",
              "        resolve(e.target.result);\n",
              "      };\n",
              "      reader.readAsArrayBuffer(file);\n",
              "    });\n",
              "    // Wait for the data to be ready.\n",
              "    let fileData = yield {\n",
              "      promise: fileDataPromise,\n",
              "      response: {\n",
              "        action: 'continue',\n",
              "      }\n",
              "    };\n",
              "\n",
              "    // Use a chunked sending to avoid message size limits. See b/62115660.\n",
              "    let position = 0;\n",
              "    do {\n",
              "      const length = Math.min(fileData.byteLength - position, MAX_PAYLOAD_SIZE);\n",
              "      const chunk = new Uint8Array(fileData, position, length);\n",
              "      position += length;\n",
              "\n",
              "      const base64 = btoa(String.fromCharCode.apply(null, chunk));\n",
              "      yield {\n",
              "        response: {\n",
              "          action: 'append',\n",
              "          file: file.name,\n",
              "          data: base64,\n",
              "        },\n",
              "      };\n",
              "\n",
              "      let percentDone = fileData.byteLength === 0 ?\n",
              "          100 :\n",
              "          Math.round((position / fileData.byteLength) * 100);\n",
              "      percent.textContent = `${percentDone}% done`;\n",
              "\n",
              "    } while (position < fileData.byteLength);\n",
              "  }\n",
              "\n",
              "  // All done.\n",
              "  yield {\n",
              "    response: {\n",
              "      action: 'complete',\n",
              "    }\n",
              "  };\n",
              "}\n",
              "\n",
              "scope.google = scope.google || {};\n",
              "scope.google.colab = scope.google.colab || {};\n",
              "scope.google.colab._files = {\n",
              "  _uploadFiles,\n",
              "  _uploadFilesContinue,\n",
              "};\n",
              "})(self);\n",
              "</script> "
            ]
          },
          "metadata": {}
        },
        {
          "output_type": "stream",
          "name": "stdout",
          "text": [
            "Saving mammographic-mass.arff to mammographic-mass.arff\n",
            "    V1    V2   V3   V4        V5 Class\n",
            "0  5.0  67.0  3.0  5.0  3.000000  b'2'\n",
            "1  4.0  43.0  1.0  1.0  2.910734  b'2'\n",
            "2  5.0  58.0  4.0  5.0  3.000000  b'2'\n",
            "3  4.0  28.0  1.0  1.0  3.000000  b'1'\n",
            "4  5.0  74.0  1.0  5.0  2.910734  b'2'\n",
            "[[ 3.66084507e-01  7.97552241e-01  2.27914663e-01  1.44403739e+00\n",
            "   2.44640809e-01]\n",
            " [-1.95635560e-01 -8.65089828e-01 -1.40884694e+00 -1.17704837e+00\n",
            "  -1.16924460e-06]\n",
            " [ 3.66084507e-01  1.74061465e-01  1.04629546e+00  1.44403739e+00\n",
            "   2.44640809e-01]\n",
            " ...\n",
            " [-1.95635560e-01  5.89721982e-01  1.04629546e+00  1.44403739e+00\n",
            "   2.44640809e-01]\n",
            " [ 3.66084507e-01  7.28275488e-01  1.04629546e+00  1.44403739e+00\n",
            "   2.44640809e-01]\n",
            " [-1.95635560e-01  4.51168476e-01  2.27914663e-01  1.33494510e-01\n",
            "   2.44640809e-01]]\n"
          ]
        }
      ],
      "source": [
        "# Importando bibliotecas necessárias\n",
        "import numpy as np\n",
        "import pandas as pd\n",
        "from google.colab import files\n",
        "from scipy.io import arff\n",
        "from sklearn.model_selection import train_test_split, cross_val_score\n",
        "from sklearn.preprocessing import StandardScaler\n",
        "from sklearn.neural_network import MLPClassifier\n",
        "from sklearn.metrics import accuracy_score\n",
        "import matplotlib.pyplot as plt\n",
        "import graphviz\n",
        "\n",
        "# Fazer upload do arquivo ARFF\n",
        "uploaded = files.upload()\n",
        "\n",
        "# O nome do arquivo é a chave no dicionário uploaded\n",
        "filename = next(iter(uploaded))\n",
        "\n",
        "# Carregar o arquivo ARFF\n",
        "data, meta = arff.loadarff(filename)\n",
        "\n",
        "# Converter para DataFrame do pandas\n",
        "df = pd.DataFrame(data)\n",
        "\n",
        "# Exibir os primeiros registros do DataFrame\n",
        "print(df.head())\n",
        "\n",
        "# Identificar as colunas de atributos e a coluna de classe\n",
        "# (presumindo que a última coluna seja a coluna alvo, ajuste conforme necessário)\n",
        "X = df.iloc[:, :-1].values  # Todas as colunas exceto a última (atributos)\n",
        "y = df.iloc[:, -1].astype(str).values  # Última coluna (classe) convertida para string\n",
        "\n",
        "# Normalizar os dados (StandardScaler padroniza os dados com média 0 e desvio padrão 1)\n",
        "scaler = StandardScaler()\n",
        "X = scaler.fit_transform(X)  # Normalizando todos os dados antes da validação cruzada\n",
        "\n",
        "# Exibir os primeiros registros do DataFrame\n",
        "print(X.view())"
      ]
    },
    {
      "cell_type": "markdown",
      "source": [
        "## **MLP com holdout sem repetição**"
      ],
      "metadata": {
        "id": "na-vdnscpayG"
      }
    },
    {
      "cell_type": "code",
      "source": [
        "# Dividir os dados em treino (80%) e teste (20%)\n",
        "X_train, X_test, y_train, y_test = train_test_split(X, y, test_size=0.2, random_state=None)  # random_state=None para diferentes divisões\n",
        "\n",
        "# Definir o modelo MLP\n",
        "mlp = MLPClassifier(hidden_layer_sizes=(5,), activation='logistic', learning_rate='constant', learning_rate_init= 0.01, max_iter=1000, random_state=None)\n",
        "\n",
        "# Treinar o modelo\n",
        "mlp.fit(X_train, y_train)\n",
        "\n",
        "# Fazer previsões\n",
        "y_pred = mlp.predict(X_test)\n",
        "\n",
        "# Avaliar a acurácia do modelo\n",
        "accuracy = accuracy_score(y_test, y_pred)\n",
        "\n",
        "# Exibir a acurácia\n",
        "print(f\"Acurácia da MLP (sem validação cruzada e sem repetição): {accuracy * 100:.2f}%\")\n",
        "\n",
        "\"\"\"# Exibir a matriz de pesos sinápticos\n",
        "for i, weights in enumerate(mlp.coefs_):\n",
        "    print(f\"Matriz de pesos da camada {i + 1}:\\n{weights}\\n\")\"\"\"\n",
        "\"\"\"\n",
        "    # Função para desenhar a arquitetura da rede neural\n",
        "def plot_mlp_architecture(mlp):\n",
        "    dot = graphviz.Digraph()\n",
        "\n",
        "    # Adicionar camada de entrada\n",
        "    for i in range(X.shape[1]):\n",
        "        dot.node(f'input_{i}', f'Input {i+1}', shape='circle')\n",
        "\n",
        "    # Adicionar camadas ocultas\n",
        "    for i in range(len(mlp.coefs_) - 1):\n",
        "        for j in range(mlp.coefs_[i].shape[1]):\n",
        "            dot.node(f'hidden_{i}_{j}', f'Hidden {i+1}-{j+1}', shape='circle')\n",
        "            for k in range(mlp.coefs_[i].shape[0]):\n",
        "                dot.edge(f'input_{k}', f'hidden_{i}_{j}')\n",
        "\n",
        "    # Adicionar camada de saída\n",
        "    for i in range(len(mlp.coefs_[-1])):\n",
        "        dot.node(f'output_{i}', f'Output {i+1}', shape='circle')\n",
        "        for j in range(mlp.coefs_[-2].shape[1]):\n",
        "            dot.edge(f'hidden_{len(mlp.coefs_) - 2}_{j}', f'output_{i}')\n",
        "\n",
        "    dot.attr(rankdir='LR')  # Direção do gráfico da esquerda para a direita\n",
        "    return dot\n",
        "    \"\"\"\n",
        "\n",
        "\"\"\"# Desenhar e exibir a arquitetura\n",
        "architecture = plot_mlp_architecture(mlp)\n",
        "architecture.render('mlp_architecture', format='png', cleanup=True)  # Salvar a imagem\n",
        "architecture  # Exibir a imagem\"\"\"\n"
      ],
      "metadata": {
        "colab": {
          "base_uri": "https://localhost:8080/",
          "height": 53
        },
        "id": "vZYPVVnio6NO",
        "outputId": "b17442f0-3542-40a0-d0fe-8f9bddf7826b"
      },
      "execution_count": null,
      "outputs": [
        {
          "output_type": "stream",
          "name": "stdout",
          "text": [
            "Acurácia da MLP (sem validação cruzada e sem repetição): 81.87%\n"
          ]
        },
        {
          "output_type": "execute_result",
          "data": {
            "text/plain": [
              "\"# Desenhar e exibir a arquitetura\\narchitecture = plot_mlp_architecture(mlp)\\narchitecture.render('mlp_architecture', format='png', cleanup=True)  # Salvar a imagem\\narchitecture  # Exibir a imagem\""
            ],
            "application/vnd.google.colaboratory.intrinsic+json": {
              "type": "string"
            }
          },
          "metadata": {},
          "execution_count": 2
        }
      ]
    },
    {
      "cell_type": "markdown",
      "source": [
        "# MLP com holdout com repetições"
      ],
      "metadata": {
        "id": "K-qijcKHqp1n"
      }
    },
    {
      "cell_type": "code",
      "source": [
        "# Definir o modelo MLP\n",
        "mlp = MLPClassifier(hidden_layer_sizes=(5,), activation='logistic', learning_rate='constant', learning_rate_init= 0.01, max_iter=1000, random_state=None)\n",
        "\n",
        "# Inicializar listas para armazenar as acurácias\n",
        "accuracies = []\n",
        "\n",
        "# Realizar Holdout com 30 repetições\n",
        "for i in range(30):\n",
        "    # Dividir os dados em treino (80%) e teste (20%)\n",
        "    X_train, X_test, y_train, y_test = train_test_split(X, y, test_size=0.2, random_state=None)  # random_state=None para diferentes divisões\n",
        "\n",
        "    # Treinar o modelo\n",
        "    mlp.fit(X_train, y_train)\n",
        "\n",
        "    # Fazer previsões\n",
        "    y_pred = mlp.predict(X_test)\n",
        "\n",
        "    # Avaliar a acurácia do modelo\n",
        "    accuracy = accuracy_score(y_test, y_pred)\n",
        "    accuracies.append(accuracy)\n",
        "\n",
        "# Calcular a média e o desvio padrão das acurácias\n",
        "mean_accuracy = np.mean(accuracies)\n",
        "std_accuracy = np.std(accuracies)\n",
        "\n",
        "# Exibir os resultados\n",
        "print(f\"Acurácia média do MLP (Holdout com 30 repetições): {mean_accuracy * 100:.2f}%\")\n",
        "print(f\"Desvio padrão da acurácia: {std_accuracy * 100:.2f}%\")"
      ],
      "metadata": {
        "id": "09CjXQREqskz",
        "colab": {
          "base_uri": "https://localhost:8080/"
        },
        "outputId": "f7ecf0a9-afad-4091-ba2e-d6ddc745c716"
      },
      "execution_count": null,
      "outputs": [
        {
          "output_type": "stream",
          "name": "stdout",
          "text": [
            "Acurácia média do MLP (Holdout com 30 repetições): 83.32%\n",
            "Desvio padrão da acurácia: 2.13%\n"
          ]
        }
      ]
    },
    {
      "cell_type": "markdown",
      "source": [
        "## **MLP com validação cruzada**"
      ],
      "metadata": {
        "id": "vjWzLT6hpe7h"
      }
    },
    {
      "cell_type": "code",
      "source": [
        "# Definir o modelo MLP\n",
        "mlp = MLPClassifier(hidden_layer_sizes=(5,), activation='logistic', learning_rate='constant', learning_rate_init= 0.01, max_iter=1000, random_state=None)\n",
        "\n",
        "# Realizar validação cruzada com 10 grupos\n",
        "cv_scores = cross_val_score(mlp, X, y, cv=10)\n",
        "\n",
        "# Calcular a média e o desvio padrão das acurácias\n",
        "mean_accuracy = np.mean(cv_scores)\n",
        "std_accuracy = np.std(cv_scores)\n",
        "\n",
        "# Exibir os resultados\n",
        "print(f\"Acurácia média do MLP (Validação Cruzada com 10 grupos): {mean_accuracy * 100:.2f}%\")\n",
        "print(f\"Desvio padrão da acurácia: {std_accuracy * 100:.2f}%\")"
      ],
      "metadata": {
        "colab": {
          "base_uri": "https://localhost:8080/"
        },
        "id": "bjfpmEhQpwo5",
        "outputId": "53652b61-f474-4ceb-b836-ce2869dfe873"
      },
      "execution_count": null,
      "outputs": [
        {
          "output_type": "stream",
          "name": "stdout",
          "text": [
            "Acurácia média do MLP (Validação Cruzada com 10 grupos): 83.04%\n",
            "Desvio padrão da acurácia: 4.11%\n"
          ]
        }
      ]
    }
  ]
}