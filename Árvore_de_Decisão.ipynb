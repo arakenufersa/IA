{
  "nbformat": 4,
  "nbformat_minor": 0,
  "metadata": {
    "colab": {
      "provenance": [],
      "authorship_tag": "ABX9TyOn1djlspdsY38a2DH40LW3",
      "include_colab_link": true
    },
    "kernelspec": {
      "name": "python3",
      "display_name": "Python 3"
    },
    "language_info": {
      "name": "python"
    }
  },
  "cells": [
    {
      "cell_type": "markdown",
      "metadata": {
        "id": "view-in-github",
        "colab_type": "text"
      },
      "source": [
        "<a href=\"https://colab.research.google.com/github/arakenufersa/IA/blob/main/%C3%81rvore_de_Decis%C3%A3o.ipynb\" target=\"_parent\"><img src=\"https://colab.research.google.com/assets/colab-badge.svg\" alt=\"Open In Colab\"/></a>"
      ]
    },
    {
      "cell_type": "code",
      "execution_count": null,
      "metadata": {
        "id": "ang4LAMLrtEy"
      },
      "outputs": [],
      "source": [
        "!apt-get install graphviz\n"
      ]
    },
    {
      "cell_type": "markdown",
      "source": [
        "## **Carregando os dados**"
      ],
      "metadata": {
        "id": "51O2rJzP88vB"
      }
    },
    {
      "cell_type": "code",
      "execution_count": null,
      "metadata": {
        "id": "g4ukZJvCnahy"
      },
      "outputs": [],
      "source": [
        "# Importando bibliotecas necessárias\n",
        "import numpy as np\n",
        "import pandas as pd\n",
        "from google.colab import files\n",
        "from scipy.io import arff\n",
        "from sklearn.model_selection import train_test_split, cross_val_score\n",
        "from sklearn.preprocessing import StandardScaler, LabelEncoder\n",
        "from sklearn.tree import DecisionTreeClassifier, plot_tree\n",
        "from sklearn.metrics import accuracy_score\n",
        "import matplotlib.pyplot as plt\n",
        "\n",
        "# Fazer upload do arquivo ARFF\n",
        "uploaded = files.upload()\n",
        "\n",
        "# O nome do arquivo é a chave no dicionário uploaded\n",
        "filename = next(iter(uploaded))\n",
        "\n",
        "# Carregar o arquivo ARFF\n",
        "data, meta = arff.loadarff(filename)\n",
        "\n",
        "# Converter para DataFrame do pandas\n",
        "df = pd.DataFrame(data)\n",
        "\n",
        "# Exibir os primeiros registros do DataFrame\n",
        "print(df.head())\n",
        "\n",
        "\n",
        "# Verificar se há colunas com valores em bytes e convertê-las para string\n",
        "for col in df.columns:\n",
        "    if df[col].dtype == 'object':  # Verificando colunas que contêm bytes\n",
        "        df[col] = df[col].apply(lambda x: x.decode('utf-8') if isinstance(x, bytes) else x)\n",
        "\n",
        "# Identificar as colunas de atributos (X) e a coluna de classe (y)\n",
        "X = df.iloc[:, :-1]  # Todas as colunas exceto a última (atributos)\n",
        "y = df.iloc[:, -1]  # Última coluna (classe)\n",
        "\n",
        "# Verificar os tipos de dados para identificar colunas numéricas\n",
        "numerical_cols = X.select_dtypes(include=['float64', 'int64']).columns.tolist()\n",
        "\n",
        "# Exibir os dados numéricos antes da transformação\n",
        "print(\"Dados numéricos antes da transformação:\")\n",
        "print(X[numerical_cols].head())\n",
        "\n",
        "# Transformar colunas numéricas em categorias utilizando binning\n",
        "for col in numerical_cols:\n",
        "    # Aplicar pd.cut para discretização em 4 categorias (bins)\n",
        "    X[col] = pd.cut(X[col], bins=4, labels=['Muito Baixo', 'Baixo', 'Alto', 'Muito Alto'])\n",
        "\n",
        "# Exibir os dados após a transformação\n",
        "print(\"\\nDados após a transformação para categóricos:\")\n",
        "print(X.head())\n",
        "\n",
        "# Aplicar Label Encoding nas novas colunas categóricas\n",
        "label_encoder = LabelEncoder()\n",
        "for col in X.columns:\n",
        "    X[col] = label_encoder.fit_transform(X[col])\n",
        "\n",
        "# Exibir os dados após Label Encoding\n",
        "print(\"\\nDados após Label Encoding:\")\n",
        "print(X.head())\n"
      ]
    },
    {
      "cell_type": "markdown",
      "source": [
        "## **Árvore de Decisão com holdout sem repetição**"
      ],
      "metadata": {
        "id": "na-vdnscpayG"
      }
    },
    {
      "cell_type": "code",
      "source": [
        "# Dividir os dados em treino (80%) e teste (20%)\n",
        "X_train, X_test, y_train, y_test = train_test_split(X, y, test_size=0.2, random_state=None)  # Ajuste random_state se necessário\n",
        "\n",
        "# Definir o modelo de Árvore de Decisão\n",
        "decision_tree = DecisionTreeClassifier()\n",
        "\n",
        "# Treinar o modelo\n",
        "decision_tree.fit(X_train, y_train)\n",
        "\n",
        "# Fazer previsões\n",
        "y_pred = decision_tree.predict(X_test)\n",
        "\n",
        "# Avaliar a acurácia do modelo\n",
        "accuracy = accuracy_score(y_test, y_pred)\n",
        "\n",
        "# Exibir os resultados\n",
        "print(f\"Acurácia do modelo de Árvore de Decisão: {accuracy * 100:.2f}%\")\n",
        "\n",
        "# Visualizar a árvore de decisão\n",
        "plt.figure(figsize=(20, 10))  # Ajustar o tamanho da figura conforme necessário\n",
        "plot_tree(decision_tree, feature_names=df.columns[:-1], class_names=np.unique(y), filled=True)\n",
        "plt.title(\"Árvore de Decisão\")\n",
        "plt.show()"
      ],
      "metadata": {
        "id": "vZYPVVnio6NO"
      },
      "execution_count": null,
      "outputs": []
    },
    {
      "cell_type": "markdown",
      "source": [
        "## **Árvore de Decisão com holdout com repetições**"
      ],
      "metadata": {
        "id": "K-qijcKHqp1n"
      }
    },
    {
      "cell_type": "code",
      "source": [
        "# Inicializar listas para armazenar as acurácias\n",
        "accuracies = []\n",
        "\n",
        "# Inicializar variáveis para armazenar a melhor acurácia e o modelo correspondente\n",
        "best_accuracy = 0\n",
        "best_model = None\n",
        "\n",
        "\n",
        "# Realizar Holdout com 30 repetições\n",
        "for _ in range(30):\n",
        "    # Dividir os dados em treino (80%) e teste (20%)\n",
        "    X_train, X_test, y_train, y_test = train_test_split(X, y, test_size=0.2, random_state=None)  # random_state=None para diferentes divisões\n",
        "\n",
        "    # Definir o modelo de Árvore de Decisão\n",
        "    decision_tree = DecisionTreeClassifier()\n",
        "\n",
        "    # Treinar o modelo\n",
        "    decision_tree.fit(X_train, y_train)\n",
        "\n",
        "    # Fazer previsões\n",
        "    y_pred = decision_tree.predict(X_test)\n",
        "\n",
        "    # Avaliar a acurácia do modelo\n",
        "    accuracy = accuracy_score(y_test, y_pred)\n",
        "    accuracies.append(accuracy)\n",
        "\n",
        "     # Verificar se a acurácia atual é a melhor\n",
        "    if accuracy > best_accuracy:\n",
        "        best_accuracy = accuracy\n",
        "        best_model = decision_tree  # Armazenar o modelo com a melhor acurácia\n",
        "\n",
        "# Calcular a média e o desvio padrão das acurácias\n",
        "mean_accuracy = np.mean(accuracies)\n",
        "std_accuracy = np.std(accuracies)\n",
        "\n",
        "# Exibir os resultados\n",
        "print(f\"Acurácia média da Árvore de Decisão (Holdout): {mean_accuracy * 100:.2f}%\")\n",
        "print(f\"Desvio padrão da acurácia: {std_accuracy * 100:.2f}%\")\n",
        "\n",
        "# Visualizar a árvore de decisão final (após o treinamento da última árvore)\n",
        "plt.figure(figsize=(20, 10))  # Ajustar o tamanho da figura conforme necessário\n",
        "plot_tree(decision_tree, feature_names=df.columns[:-1], class_names=np.unique(y), filled=True)\n",
        "plt.title(\"Árvore de Decisão Final\")\n",
        "plt.show()\n",
        "\n",
        "# Exibir a melhor acurácia\n",
        "print(f\"A melhor acurácia da Árvore de Decisão (Holdout): {best_accuracy * 100:.2f}%\")\n",
        "\n",
        "# Visualizar a árvore de decisão com a melhor acurácia\n",
        "plt.figure(figsize=(20, 10))  # Ajustar o tamanho da figura conforme necessário\n",
        "plot_tree(best_model, feature_names=df.columns[:-1], class_names=np.unique(y), filled=True)\n",
        "plt.title(\"Árvore de Decisão com Melhor Acurácia\")\n",
        "plt.show()\n"
      ],
      "metadata": {
        "id": "09CjXQREqskz"
      },
      "execution_count": null,
      "outputs": []
    },
    {
      "cell_type": "markdown",
      "source": [
        "## **Árvore de Decisão com validação cruzada**"
      ],
      "metadata": {
        "id": "vjWzLT6hpe7h"
      }
    },
    {
      "cell_type": "code",
      "source": [
        "# Definir o modelo de Árvore de Decisão\n",
        "decision_tree = DecisionTreeClassifier()\n",
        "\n",
        "# Realizar validação cruzada com 10 grupos\n",
        "cv_scores = cross_val_score(decision_tree, X, y, cv=10)  # 10-fold cross-validation\n",
        "\n",
        "# Calcular a média e o desvio padrão das acurácias\n",
        "mean_accuracy = np.mean(cv_scores)\n",
        "std_accuracy = np.std(cv_scores)\n",
        "\n",
        "# Exibir os resultados\n",
        "print(f\"Acurácia média da Árvore de Decisão (Validação Cruzada): {mean_accuracy * 100:.2f}%\")\n",
        "print(f\"Desvio padrão da acurácia: {std_accuracy * 100:.2f}%\")\n",
        "\n",
        "# Treinar o modelo novamente em todo o conjunto de dados para visualizar a árvore\n",
        "decision_tree.fit(X, y)\n",
        "\n",
        "# Visualizar a árvore de decisão final\n",
        "plt.figure(figsize=(20, 10))  # Ajustar o tamanho da figura conforme necessário\n",
        "plot_tree(decision_tree, feature_names=df.columns[:-1], class_names=np.unique(y), filled=True)\n",
        "plt.title(\"Árvore de Decisão (Treinada com Validação Cruzada)\")\n",
        "plt.show()"
      ],
      "metadata": {
        "id": "bjfpmEhQpwo5"
      },
      "execution_count": null,
      "outputs": []
    }
  ]
}